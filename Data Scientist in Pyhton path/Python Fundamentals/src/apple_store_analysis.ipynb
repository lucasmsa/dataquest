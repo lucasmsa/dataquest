{
 "cells": [
  {
   "cell_type": "markdown",
   "metadata": {},
   "source": [
    "## Profitable Applications for Apple Store and Google Play Markets\n",
    "---\n",
    "- The idea behind this project is to analyze data from both stores to see which free apps and categories yield a larger user base\n",
    "- Datasets used: [Google Play](https://www.kaggle.com/lava18/google-play-store-apps), [Apple Store](https://www.kaggle.com/ramamet4/app-store-apple-data-set-10k-apps)"
   ]
  },
  {
   "cell_type": "code",
   "execution_count": 1,
   "metadata": {},
   "outputs": [],
   "source": [
    "from csv import reader\n",
    "import itertools\n",
    "from collections import OrderedDict\n",
    "\n",
    "apple_store_file, google_play_file = open('../dataset/AppleStore.csv'), open('../dataset/googleplaystore.csv')\n",
    "apple_store_data, google_play_data = list(reader(apple_store_file)), list(reader(google_play_file))"
   ]
  },
  {
   "cell_type": "code",
   "execution_count": 2,
   "metadata": {},
   "outputs": [],
   "source": [
    "def explore_data(data, start, end, number_of_rows_and_columns=True):\n",
    "    data_slice = data[start:end]\n",
    "    \n",
    "    if number_of_rows_and_columns: \n",
    "        print(f'Number of rows: {len(data)}\\nNumber of columns: {len(data[0])}\\n')\n",
    "        \n",
    "    for row in data_slice:\n",
    "        print(f'{row}\\n')"
   ]
  },
  {
   "cell_type": "code",
   "execution_count": 3,
   "metadata": {},
   "outputs": [
    {
     "name": "stdout",
     "output_type": "stream",
     "text": [
      "['id', 'track_name', 'size_bytes', 'currency', 'price', 'rating_count_tot', 'rating_count_ver', 'user_rating', 'user_rating_ver', 'ver', 'cont_rating', 'prime_genre', 'sup_devices.num', 'ipadSc_urls.num', 'lang.num', 'vpp_lic']\n",
      "\n",
      "['App', 'Category', 'Rating', 'Reviews', 'Size', 'Installs', 'Type', 'Price', 'Content Rating', 'Genres', 'Last Updated', 'Current Ver', 'Android Ver']\n"
     ]
    }
   ],
   "source": [
    "print(f'{apple_store_data[0][1:]}\\n\\n{google_play_data[0]}')"
   ]
  },
  {
   "cell_type": "code",
   "execution_count": 4,
   "metadata": {},
   "outputs": [
    {
     "name": "stdout",
     "output_type": "stream",
     "text": [
      "Number of rows: 7197\n",
      "Number of columns: 17\n",
      "\n",
      "['1', '281656475', 'PAC-MAN Premium', '100788224', 'USD', '3.99', '21292', '26', '4', '4.5', '6.3.5', '4+', 'Games', '38', '5', '10', '1']\n",
      "\n",
      "['2', '281796108', 'Evernote - stay organized', '158578688', 'USD', '0', '161065', '26', '4', '3.5', '8.2.2', '4+', 'Productivity', '37', '5', '23', '1']\n",
      "\n",
      "['3', '281940292', 'WeatherBug - Local Weather, Radar, Maps, Alerts', '100524032', 'USD', '0', '188583', '2822', '3.5', '4.5', '5.0.0', '4+', 'Weather', '37', '5', '3', '1']\n",
      "\n",
      "['4', '282614216', 'eBay: Best App to Buy, Sell, Save! Online Shopping', '128512000', 'USD', '0', '262241', '649', '4', '4.5', '5.10.0', '12+', 'Shopping', '37', '5', '9', '1']\n",
      "\n",
      "['5', '282935706', 'Bible', '92774400', 'USD', '0', '985920', '5320', '4.5', '5', '7.5.1', '4+', 'Reference', '37', '5', '45', '1']\n",
      "\n",
      "--------------------------------------------------------------------------------\n",
      "Number of rows: 10841\n",
      "Number of columns: 13\n",
      "\n",
      "['Photo Editor & Candy Camera & Grid & ScrapBook', 'ART_AND_DESIGN', '4.1', '159', '19M', '10,000+', 'Free', '0', 'Everyone', 'Art & Design', 'January 7, 2018', '1.0.0', '4.0.3 and up']\n",
      "\n",
      "['Coloring book moana', 'ART_AND_DESIGN', '3.9', '967', '14M', '500,000+', 'Free', '0', 'Everyone', 'Art & Design;Pretend Play', 'January 15, 2018', '2.0.0', '4.0.3 and up']\n",
      "\n",
      "['U Launcher Lite – FREE Live Cool Themes, Hide Apps', 'ART_AND_DESIGN', '4.7', '87510', '8.7M', '5,000,000+', 'Free', '0', 'Everyone', 'Art & Design', 'August 1, 2018', '1.2.4', '4.0.3 and up']\n",
      "\n",
      "['Sketch - Draw & Paint', 'ART_AND_DESIGN', '4.5', '215644', '25M', '50,000,000+', 'Free', '0', 'Teen', 'Art & Design', 'June 8, 2018', 'Varies with device', '4.2 and up']\n",
      "\n",
      "['Pixel Draw - Number Art Coloring Book', 'ART_AND_DESIGN', '4.3', '967', '2.8M', '100,000+', 'Free', '0', 'Everyone', 'Art & Design;Creativity', 'June 20, 2018', '1.1', '4.4 and up']\n",
      "\n"
     ]
    }
   ],
   "source": [
    "explore_data(data=apple_store_data[1:],start=0,end=5)\n",
    "print('-'*80)\n",
    "explore_data(data=google_play_data[1:], start=0,end=5)"
   ]
  },
  {
   "cell_type": "markdown",
   "metadata": {},
   "source": [
    "### Eliminate non-english applications, rows missing values, and apps that are not free 🔎\n",
    "- Delete row [10473] because it doesn't have a rating value, as pointed [here](https://www.kaggle.com/lava18/google-play-store-apps/discussion/66015)\n",
    "- Checking if the google play store dataset contains any duplicate data\n",
    "- The criterea chosen to eliminate duplicates is by number of reviews, since it probably determines that the data was obtained more recently"
   ]
  },
  {
   "cell_type": "code",
   "execution_count": 5,
   "metadata": {},
   "outputs": [
    {
     "name": "stdout",
     "output_type": "stream",
     "text": [
      "['Life Made WI-Fi Touchscreen Photo Frame', '1.9', '19', '3.0M', '1,000+', 'Free', '0', 'Everyone', '', 'February 11, 2018', '1.0.19', '4.0 and up']\n"
     ]
    }
   ],
   "source": [
    "print(google_play_data[10473])"
   ]
  },
  {
   "cell_type": "code",
   "execution_count": 6,
   "metadata": {},
   "outputs": [],
   "source": [
    "if not google_play_data[10473][8]: del google_play_data[10473]"
   ]
  },
  {
   "cell_type": "code",
   "execution_count": 7,
   "metadata": {},
   "outputs": [],
   "source": [
    "def eliminate_duplicates(dataset):\n",
    "    unique_apps = {}\n",
    "    number_of_duplicate_apps = 0\n",
    "    \n",
    "    for row in dataset[1:]:\n",
    "        app_name = row[0]\n",
    "        app_reviews = float(row[3]) if 'M' not in row[3] else float(row[3][:-1])\n",
    "        \n",
    "        if app_name in unique_apps:\n",
    "            number_of_duplicate_apps += 1\n",
    "            if app_reviews > unique_apps[app_name]: unique_apps[app_name] = app_reviews\n",
    "        else:\n",
    "            unique_apps[app_name] = app_reviews\n",
    "            \n",
    "    print(f'{dict(itertools.islice(unique_apps.items(), 4))}...\\n\\nThere are {number_of_duplicate_apps} duplicate app entries on this dataset')\n",
    "    filtered_dataset = [dataset[0]]\n",
    "    already_added = set()\n",
    "    for row in dataset[1:]:\n",
    "        app_name = row[0]\n",
    "        app_reviews = float(row[3]) if 'M' not in row[3] else float(row[3][:-1])\n",
    "        \n",
    "        if unique_apps[app_name] == app_reviews and app_name not in already_added:\n",
    "            filtered_dataset.append(row)\n",
    "            already_added.add(app_name)\n",
    "            \n",
    "    print(f'\\nOld dataset size: {len(dataset)}, new size: {len(filtered_dataset)}')\n",
    "    \n",
    "    return filtered_dataset"
   ]
  },
  {
   "cell_type": "code",
   "execution_count": 8,
   "metadata": {},
   "outputs": [
    {
     "name": "stdout",
     "output_type": "stream",
     "text": [
      "{'Photo Editor & Candy Camera & Grid & ScrapBook': 159.0, 'Coloring book moana': 974.0, 'U Launcher Lite – FREE Live Cool Themes, Hide Apps': 87510.0, 'Sketch - Draw & Paint': 215644.0}...\n",
      "\n",
      "There are 1181 duplicate app entries on this dataset\n",
      "\n",
      "Old dataset size: 10841, new size: 9660\n"
     ]
    }
   ],
   "source": [
    "google_play_data = eliminate_duplicates(google_play_data)"
   ]
  },
  {
   "cell_type": "markdown",
   "metadata": {},
   "source": [
    "### Checking whether or not an application is directed to English speaking people\n",
    "- Look over each application and inspect if it has more than three characters falling outside the ASCII range (this includes emojis, ™, etc) then delete this row"
   ]
  },
  {
   "cell_type": "code",
   "execution_count": 9,
   "metadata": {},
   "outputs": [],
   "source": [
    "def is_english_app(txt):\n",
    "    \n",
    "    for letter in txt:\n",
    "        if 0 <= ord(letter) >= 127:\n",
    "            return False\n",
    "    return True"
   ]
  },
  {
   "cell_type": "code",
   "execution_count": 10,
   "metadata": {},
   "outputs": [],
   "source": [
    "def eliminate_non_english_apps(dataset, name_col, store):\n",
    "    filtered_dataset = [dataset[0]]\n",
    "    for row in dataset[1:]:\n",
    "        app_name = row[name_col]\n",
    "        if is_english_app(app_name): filtered_dataset.append(row)\n",
    "\n",
    "    print(f'{len(dataset) - len(filtered_dataset)} phrases were eliminated after filtering non english applications from the {store} dataset')\n",
    "                                                             \n",
    "    return filtered_dataset"
   ]
  },
  {
   "cell_type": "code",
   "execution_count": 11,
   "metadata": {},
   "outputs": [
    {
     "name": "stdout",
     "output_type": "stream",
     "text": [
      "542 phrases were eliminated after filtering non english applications from the Google Play dataset\n",
      "1490 phrases were eliminated after filtering non english applications from the Apple Store dataset\n"
     ]
    }
   ],
   "source": [
    "google_play_data = eliminate_non_english_apps(google_play_data, 0, 'Google Play')\n",
    "apple_store_data = eliminate_non_english_apps(apple_store_data, 2, 'Apple Store')"
   ]
  },
  {
   "cell_type": "code",
   "execution_count": 12,
   "metadata": {},
   "outputs": [],
   "source": [
    "def eliminate_paid_apps(dataset, price_col, free_indicator, store):\n",
    "    filtered_dataset = [dataset[0]]\n",
    "    for row in dataset[1:]:\n",
    "        if row[price_col] == free_indicator:\n",
    "            filtered_dataset.append(row)\n",
    "    \n",
    "    print(f'{len(dataset) - len(filtered_dataset)} phrases were eliminated after filtering paid applications from the {store} dataset')\n",
    "    return filtered_dataset"
   ]
  },
  {
   "cell_type": "code",
   "execution_count": 13,
   "metadata": {
    "scrolled": true
   },
   "outputs": [
    {
     "name": "stdout",
     "output_type": "stream",
     "text": [
      "710 phrases were eliminated after filtering paid applications from the Google Play dataset\n",
      "2785 phrases were eliminated after filtering paid applications from the Apple Store dataset\n"
     ]
    }
   ],
   "source": [
    "google_play_data = eliminate_paid_apps(google_play_data, 6, 'Free', 'Google Play')\n",
    "apple_store_data = eliminate_paid_apps(apple_store_data, 5, '0', 'Apple Store')"
   ]
  },
  {
   "cell_type": "markdown",
   "metadata": {},
   "source": [
    "### Inspect which are the top application's categories for each Store"
   ]
  },
  {
   "cell_type": "code",
   "execution_count": 50,
   "metadata": {},
   "outputs": [
    {
     "name": "stdout",
     "output_type": "stream",
     "text": [
      "App categories frequency for free apps on Apple Store store:\n",
      "\n",
      "{'Games': '59.15%', 'Entertainment': '7.53%', 'Photo & video': '5.13%', 'Education': '3.83%', 'Social networking': '3.11%', 'Shopping': '2.5%', 'Utilities': '2.26%', 'Music': '2.16%', 'Sports': '2.05%', 'Health & fitness': '1.98%', 'Productivity': '1.71%', 'Lifestyle': '1.47%', 'News': '1.33%', 'Travel': '1.13%', 'Finance': '1.09%', 'Weather': '0.89%', 'Food & drink': '0.89%', 'Reference': '0.51%', 'Business': '0.51%', 'Book': '0.27%', 'Medical': '0.21%', 'Navigation': '0.14%', 'Catalogs': '0.1%'}\n",
      "\n",
      "--------------------------------------------------------------------------------\n",
      "\n",
      "App categories frequency for free apps on Google Play store:\n",
      "\n",
      "{'Family': '18.79%', 'Game': '9.61%', 'Tools': '8.58%', 'Business': '4.71%', 'Productivity': '3.97%', 'Lifestyle': '3.89%', 'Finance': '3.73%', 'Medical': '3.64%', 'Personalization': '3.31%', 'Sports': '3.26%', 'Communication': '3.22%', 'Health_and_fitness': '3.13%', 'Photography': '3.01%', 'News_and_magazines': '2.79%', 'Social': '2.66%', 'Travel_and_local': '2.31%', 'Shopping': '2.25%', 'Books_and_reference': '2.19%', 'Dating': '1.83%', 'Video_players': '1.76%', 'Maps_and_navigation': '1.36%', 'Food_and_drink': '1.2%', 'Education': '1.17%', 'Auto_and_vehicles': '0.94%', 'Entertainment': '0.94%', 'Libraries_and_demo': '0.9%', 'House_and_home': '0.81%', 'Weather': '0.8%', 'Events': '0.71%', 'Art_and_design': '0.67%', 'Parenting': '0.65%', 'Beauty': '0.63%', 'Comics': '0.57%'}\n",
      "\n",
      "App genres frequency for free apps on Google Play store:\n",
      "\n",
      "{'Tools': '8.56%', 'Entertainment': '6.09%', 'Education': '5.39%', 'Business': '4.71%', 'Productivity': '3.97%', 'Lifestyle': '3.88%', 'Finance': '3.73%', 'Medical': '3.64%', 'Sports': '3.33%', 'Personalization': '3.31%', 'Communication': '3.22%', 'Health & fitness': '3.13%', 'Action': '3.12%', 'Photography': '3.01%', 'News & magazines': '2.79%', 'Social': '2.66%', 'Travel & local': '2.31%', 'Shopping': '2.25%', 'Books & reference': '2.19%', 'Simulation': '2.08%', 'Dating': '1.83%', 'Arcade': '1.83%', 'Casual': '1.77%', 'Video players & editors': '1.74%', 'Maps & navigation': '1.36%', 'Food & drink': '1.2%', 'Puzzle': '1.13%', 'Racing': '1.02%', 'Auto & vehicles': '0.94%', 'Role playing': '0.94%', 'Libraries & demo': '0.9%', 'Strategy': '0.89%', 'House & home': '0.81%', 'Weather': '0.8%', 'Events': '0.71%', 'Adventure': '0.65%', 'Beauty': '0.63%', 'Art & design': '0.62%', 'Comics': '0.56%', 'Parenting': '0.5%', 'Trivia': '0.42%', 'Educational;education': '0.42%', 'Card': '0.4%', 'Educational': '0.38%', 'Casino': '0.38%', 'Board': '0.37%', 'Education;education': '0.34%', 'Word': '0.25%', 'Music': '0.2%', 'Casual;pretend play': '0.19%', 'Puzzle;brain games': '0.18%', 'Casual;brain games': '0.14%', 'Racing;action & adventure': '0.14%', 'Entertainment;music & video': '0.13%', 'Casual;action & adventure': '0.13%', 'Arcade;action & adventure': '0.11%', 'Action;action & adventure': '0.08%', 'Educational;pretend play': '0.08%', 'Simulation;action & adventure': '0.08%', 'Parenting;education': '0.08%', 'Art & design;creativity': '0.07%', 'Entertainment;brain games': '0.07%', 'Education;pretend play': '0.06%', 'Board;brain games': '0.06%', 'Parenting;music & video': '0.06%', 'Education;creativity': '0.05%', 'Educational;brain games': '0.05%', 'Casual;creativity': '0.05%', 'Role playing;pretend play': '0.05%', 'Educational;creativity': '0.04%', 'Adventure;action & adventure': '0.04%', 'Role playing;action & adventure': '0.04%', 'Puzzle;action & adventure': '0.04%', 'Education;action & adventure': '0.04%', 'Education;music & video': '0.04%', 'Education;brain games': '0.02%', 'Entertainment;creativity': '0.02%', 'Casual;education': '0.02%', 'Music;music & video': '0.02%', 'Simulation;pretend play': '0.02%', 'Puzzle;creativity': '0.02%', 'Sports;action & adventure': '0.02%', 'Educational;action & adventure': '0.02%', 'Entertainment;action & adventure': '0.02%', 'Board;action & adventure': '0.02%', 'Entertainment;pretend play': '0.02%', 'Video players & editors;music & video': '0.02%', 'Comics;creativity': '0.01%', 'Lifestyle;pretend play': '0.01%', 'Art & design;pretend play': '0.01%', 'Entertainment;education': '0.01%', 'Art & design;action & adventure': '0.01%', 'Music & audio;music & video': '0.01%', 'Health & fitness;education': '0.01%', 'Tools;education': '0.01%', 'Parenting;brain games': '0.01%', 'Video players & editors;creativity': '0.01%', 'Health & fitness;action & adventure': '0.01%', 'Trivia;education': '0.01%', 'Card;action & adventure': '0.01%', 'Books & reference;education': '0.01%', 'Simulation;education': '0.01%', 'Puzzle;education': '0.01%', 'Adventure;education': '0.01%', 'Role playing;brain games': '0.01%', 'Strategy;education': '0.01%', 'Racing;pretend play': '0.01%', 'Strategy;creativity': '0.01%'}\n"
     ]
    }
   ],
   "source": [
    "def get_frequency_list_percentages(dictionary, dataset_size):\n",
    "    for key, value in dictionary.items():\n",
    "        dictionary[key] = f'{round((value/dataset_size)*100, 2)}%'\n",
    "    return dictionary\n",
    "\n",
    "def get_categories_frequency(dataset, category_col, store, genre_col=None):\n",
    "    categories_frequency_table = {}\n",
    "    if genre_col: genres_frequency_table = {}\n",
    "        \n",
    "    for row in dataset[1:]:\n",
    "        category = row[category_col].capitalize()\n",
    "        if category in categories_frequency_table:\n",
    "            categories_frequency_table[category] += 1\n",
    "        else:\n",
    "            categories_frequency_table[category] = 1\n",
    "            \n",
    "        if genre_col:\n",
    "            genre = row[genre_col].capitalize()\n",
    "            if genre in genres_frequency_table:\n",
    "                genres_frequency_table[genre] += 1\n",
    "            else:\n",
    "                genres_frequency_table[genre] = 1\n",
    "    \n",
    "    categories_frequency_table_percentages = categories_frequency_table.copy()\n",
    "    categories_frequency_table_percentages = get_frequency_list_percentages(categories_frequency_table_percentages, len(dataset))\n",
    "    categories_frequency_table_percentages = dict(sorted(categories_frequency_table_percentages.items(), key=lambda item: -float(item[1][:-1])))\n",
    "    \n",
    "    print(f'App categories frequency for free apps on {store} store:\\n\\n{categories_frequency_table_percentages}')\n",
    "    \n",
    "    if genre_col:\n",
    "        genres_frequency_table_percentages = get_frequency_list_percentages(genres_frequency_table, len(dataset))\n",
    "        genres_frequency_table_percentages = dict(sorted(genres_frequency_table_percentages.items(), key=lambda item: -float(item[1][:-1])))\n",
    "        \n",
    "        print(f'\\nApp genres frequency for free apps on {store} store:\\n\\n{genres_frequency_table_percentages}')\n",
    "    \n",
    "    if not genre_col:\n",
    "        return categories_frequency_table\n",
    "    else:\n",
    "        return {'categories': categories_frequency_table, 'columns': genres_frequency_table}\n",
    "\n",
    "apple_store_categories = get_categories_frequency(apple_store_data, 12, 'Apple Store')\n",
    "print(f'\\n{\"-\"*80}\\n')\n",
    "google_play_categories = get_categories_frequency(google_play_data, 1, 'Google Play', 9)"
   ]
  },
  {
   "cell_type": "markdown",
   "metadata": {},
   "source": [
    "### Apple Store analysis \n",
    "---\n",
    "- There's an disproportionate number of game and entertainement apps when analysing the free english applications, whith Utilities and Productivity coming below the 3% mark\n",
    "\n",
    "### Google Play analysis \n",
    "---\n",
    "- The most common free apps vary on a range of different genres and categories, being more evenly distritibuted than the apps from apple store\n",
    "- There are a lot of game Applications, family and tools on the store \n",
    "- It differs a lot of the Apple store applications, since we cannot see a clear pattern relating to those apps to specifically games and entertainment \n",
    "\n",
    "#### Notice that this was made only by inspecting the main categories and genres of each dataset, further exploration will be done now in order to check which apps yield a larger user base. The apple store dataset is missing the installed column, so in order to workaround this issue we'll use the rating count column"
   ]
  },
  {
   "cell_type": "code",
   "execution_count": 56,
   "metadata": {},
   "outputs": [
    {
     "data": {
      "text/plain": [
       "{'Navigation': 125037.25,\n",
       " 'Reference': 89562.6,\n",
       " 'Social networking': 78567.31,\n",
       " 'Music': 55396.02,\n",
       " 'Weather': 48275.58,\n",
       " 'Travel': 34115.58,\n",
       " 'Food & drink': 33333.92,\n",
       " 'Photo & video': 29249.77,\n",
       " 'Shopping': 28877.58,\n",
       " 'Finance': 26038.69,\n",
       " 'Sports': 25791.67,\n",
       " 'News': 23382.18,\n",
       " 'Productivity': 22842.22,\n",
       " 'Games': 21560.75,\n",
       " 'Health & fitness': 19418.62,\n",
       " 'Lifestyle': 17260.53,\n",
       " 'Book': 16671.0,\n",
       " 'Entertainment': 15006.23,\n",
       " 'Utilities': 11571.7,\n",
       " 'Business': 6839.6,\n",
       " 'Education': 6103.46,\n",
       " 'Catalogs': 5195.0,\n",
       " 'Medical': 612.0}"
      ]
     },
     "execution_count": 56,
     "metadata": {},
     "output_type": "execute_result"
    }
   ],
   "source": [
    "def get_category_average_user_base(popularity_dict, category_frequency_dict):\n",
    "    average_category_user_base = {}\n",
    "    for category, user_base in popularity_dict.items():\n",
    "        average_category_user_base[category] = round(user_base/float(category_frequency_dict[category]), 2)\n",
    "    return average_category_user_base\n",
    "\n",
    "def get_most_downloaded_app_genres(dataset, category_dict, category_col, popularity_col):\n",
    "    category_popularity_sum = {}\n",
    "    for row in dataset[1:]:\n",
    "        category = row[category_col].capitalize()\n",
    "        popularity = float(row[popularity_col])\n",
    "        \n",
    "        if category in category_popularity_sum:\n",
    "            category_popularity_sum[category] += popularity\n",
    "        else:\n",
    "            category_popularity_sum[category] = popularity\n",
    "            \n",
    "    average_category_user_base = get_category_average_user_base(category_popularity_sum, category_dict)\n",
    "    average_category_user_base = dict(sorted(average_category_user_base.items(), key=lambda item: -float(item[1])))\n",
    "    \n",
    "    return average_category_user_base\n",
    "    \n",
    "get_most_downloaded_app_genres(apple_store_data, apple_store_categories, 12, 6)"
   ]
  }
 ],
 "metadata": {
  "kernelspec": {
   "display_name": "Python 3",
   "language": "python",
   "name": "python3"
  },
  "language_info": {
   "codemirror_mode": {
    "name": "ipython",
    "version": 3
   },
   "file_extension": ".py",
   "mimetype": "text/x-python",
   "name": "python",
   "nbconvert_exporter": "python",
   "pygments_lexer": "ipython3",
   "version": "3.8.5"
  }
 },
 "nbformat": 4,
 "nbformat_minor": 4
}
