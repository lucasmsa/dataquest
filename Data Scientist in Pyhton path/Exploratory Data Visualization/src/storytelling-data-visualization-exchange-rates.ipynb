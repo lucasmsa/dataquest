{
 "metadata": {
  "language_info": {
   "codemirror_mode": {
    "name": "ipython",
    "version": 3
   },
   "file_extension": ".py",
   "mimetype": "text/x-python",
   "name": "python",
   "nbconvert_exporter": "python",
   "pygments_lexer": "ipython3",
   "version": "3.8.5"
  },
  "orig_nbformat": 4,
  "kernelspec": {
   "name": "python3",
   "display_name": "Python 3.8.5 64-bit ('base': conda)"
  },
  "interpreter": {
   "hash": "2aa01d7081ee7c07aadc39687ddc6aa130cdaaea914e20506ed6f4ece119d5e2"
  }
 },
 "nbformat": 4,
 "nbformat_minor": 2,
 "cells": [
  {
   "cell_type": "code",
   "execution_count": 37,
   "metadata": {},
   "outputs": [],
   "source": [
    "import pandas as pd"
   ]
  },
  {
   "source": [
    "### The goal of this project is to examine the different exchange rates between Euros and dollars throughout 1999 and 2021 💰📈    "
   ],
   "cell_type": "markdown",
   "metadata": {}
  },
  {
   "cell_type": "code",
   "execution_count": 38,
   "metadata": {},
   "outputs": [
    {
     "output_type": "execute_result",
     "data": {
      "text/plain": [
       "  Period\\Unit: [Australian dollar ] [Bulgarian lev ] [Brazilian real ]  \\\n",
       "0   2021-05-06               1.5547           1.9558            6.4707   \n",
       "1   2021-05-05               1.5510           1.9558            6.5174   \n",
       "2   2021-05-04               1.5608           1.9558            6.5785   \n",
       "3   2021-05-03               1.5573           1.9558            6.5507   \n",
       "4   2021-04-30               1.5581           1.9558            6.4597   \n",
       "\n",
       "  [Canadian dollar ] [Swiss franc ] [Chinese yuan renminbi ] [Cypriot pound ]  \\\n",
       "0             1.4764         1.0953                   7.8054              NaN   \n",
       "1             1.4731         1.0965                   7.7636              NaN   \n",
       "2             1.4836         1.0980                   7.8136              NaN   \n",
       "3             1.4807         1.1016                   7.7967              NaN   \n",
       "4             1.4834         1.0998                   7.8134              NaN   \n",
       "\n",
       "  [Czech koruna ] [Danish krone ]  ... [Romanian leu ] [Russian rouble ]  \\\n",
       "0          25.847          7.4360  ...          4.9264           89.8825   \n",
       "1          25.825          7.4360  ...          4.9271           89.7964   \n",
       "2          25.841          7.4361  ...          4.9275           90.2438   \n",
       "3          25.773          7.4365  ...          4.9269           90.7472   \n",
       "4          25.883          7.4360  ...          4.9285           90.7108   \n",
       "\n",
       "  [Swedish krona ] [Singapore dollar ] [Slovenian tolar ] [Slovak koruna ]  \\\n",
       "0          10.1940              1.6096                NaN              NaN   \n",
       "1          10.1945              1.6035                NaN              NaN   \n",
       "2          10.1673              1.6073                NaN              NaN   \n",
       "3          10.1803              1.6044                NaN              NaN   \n",
       "4          10.1640              1.6045                NaN              NaN   \n",
       "\n",
       "  [Thai baht ] [Turkish lira ] [US dollar ]  [South African rand ]  \n",
       "0      37.7120         10.0490       1.2060                17.2081  \n",
       "1      37.3660         10.0174       1.2005                17.3013  \n",
       "2      37.4750         10.0110       1.2021                17.4433  \n",
       "3      37.5650         10.0087       1.2044                17.3953  \n",
       "4      37.6480          9.9777       1.2082                17.3875  \n",
       "\n",
       "[5 rows x 41 columns]"
      ],
      "text/html": "<div>\n<style scoped>\n    .dataframe tbody tr th:only-of-type {\n        vertical-align: middle;\n    }\n\n    .dataframe tbody tr th {\n        vertical-align: top;\n    }\n\n    .dataframe thead th {\n        text-align: right;\n    }\n</style>\n<table border=\"1\" class=\"dataframe\">\n  <thead>\n    <tr style=\"text-align: right;\">\n      <th></th>\n      <th>Period\\Unit:</th>\n      <th>[Australian dollar ]</th>\n      <th>[Bulgarian lev ]</th>\n      <th>[Brazilian real ]</th>\n      <th>[Canadian dollar ]</th>\n      <th>[Swiss franc ]</th>\n      <th>[Chinese yuan renminbi ]</th>\n      <th>[Cypriot pound ]</th>\n      <th>[Czech koruna ]</th>\n      <th>[Danish krone ]</th>\n      <th>...</th>\n      <th>[Romanian leu ]</th>\n      <th>[Russian rouble ]</th>\n      <th>[Swedish krona ]</th>\n      <th>[Singapore dollar ]</th>\n      <th>[Slovenian tolar ]</th>\n      <th>[Slovak koruna ]</th>\n      <th>[Thai baht ]</th>\n      <th>[Turkish lira ]</th>\n      <th>[US dollar ]</th>\n      <th>[South African rand ]</th>\n    </tr>\n  </thead>\n  <tbody>\n    <tr>\n      <th>0</th>\n      <td>2021-05-06</td>\n      <td>1.5547</td>\n      <td>1.9558</td>\n      <td>6.4707</td>\n      <td>1.4764</td>\n      <td>1.0953</td>\n      <td>7.8054</td>\n      <td>NaN</td>\n      <td>25.847</td>\n      <td>7.4360</td>\n      <td>...</td>\n      <td>4.9264</td>\n      <td>89.8825</td>\n      <td>10.1940</td>\n      <td>1.6096</td>\n      <td>NaN</td>\n      <td>NaN</td>\n      <td>37.7120</td>\n      <td>10.0490</td>\n      <td>1.2060</td>\n      <td>17.2081</td>\n    </tr>\n    <tr>\n      <th>1</th>\n      <td>2021-05-05</td>\n      <td>1.5510</td>\n      <td>1.9558</td>\n      <td>6.5174</td>\n      <td>1.4731</td>\n      <td>1.0965</td>\n      <td>7.7636</td>\n      <td>NaN</td>\n      <td>25.825</td>\n      <td>7.4360</td>\n      <td>...</td>\n      <td>4.9271</td>\n      <td>89.7964</td>\n      <td>10.1945</td>\n      <td>1.6035</td>\n      <td>NaN</td>\n      <td>NaN</td>\n      <td>37.3660</td>\n      <td>10.0174</td>\n      <td>1.2005</td>\n      <td>17.3013</td>\n    </tr>\n    <tr>\n      <th>2</th>\n      <td>2021-05-04</td>\n      <td>1.5608</td>\n      <td>1.9558</td>\n      <td>6.5785</td>\n      <td>1.4836</td>\n      <td>1.0980</td>\n      <td>7.8136</td>\n      <td>NaN</td>\n      <td>25.841</td>\n      <td>7.4361</td>\n      <td>...</td>\n      <td>4.9275</td>\n      <td>90.2438</td>\n      <td>10.1673</td>\n      <td>1.6073</td>\n      <td>NaN</td>\n      <td>NaN</td>\n      <td>37.4750</td>\n      <td>10.0110</td>\n      <td>1.2021</td>\n      <td>17.4433</td>\n    </tr>\n    <tr>\n      <th>3</th>\n      <td>2021-05-03</td>\n      <td>1.5573</td>\n      <td>1.9558</td>\n      <td>6.5507</td>\n      <td>1.4807</td>\n      <td>1.1016</td>\n      <td>7.7967</td>\n      <td>NaN</td>\n      <td>25.773</td>\n      <td>7.4365</td>\n      <td>...</td>\n      <td>4.9269</td>\n      <td>90.7472</td>\n      <td>10.1803</td>\n      <td>1.6044</td>\n      <td>NaN</td>\n      <td>NaN</td>\n      <td>37.5650</td>\n      <td>10.0087</td>\n      <td>1.2044</td>\n      <td>17.3953</td>\n    </tr>\n    <tr>\n      <th>4</th>\n      <td>2021-04-30</td>\n      <td>1.5581</td>\n      <td>1.9558</td>\n      <td>6.4597</td>\n      <td>1.4834</td>\n      <td>1.0998</td>\n      <td>7.8134</td>\n      <td>NaN</td>\n      <td>25.883</td>\n      <td>7.4360</td>\n      <td>...</td>\n      <td>4.9285</td>\n      <td>90.7108</td>\n      <td>10.1640</td>\n      <td>1.6045</td>\n      <td>NaN</td>\n      <td>NaN</td>\n      <td>37.6480</td>\n      <td>9.9777</td>\n      <td>1.2082</td>\n      <td>17.3875</td>\n    </tr>\n  </tbody>\n</table>\n<p>5 rows × 41 columns</p>\n</div>"
     },
     "metadata": {},
     "execution_count": 38
    }
   ],
   "source": [
    "exchange_rates = pd.read_csv(\"../dataset/euro-daily-hist_1999_2020.csv\")\n",
    "exchange_rates.head(5)"
   ]
  },
  {
   "cell_type": "code",
   "execution_count": 39,
   "metadata": {},
   "outputs": [
    {
     "output_type": "execute_result",
     "data": {
      "text/plain": [
       "     Period\\Unit: [Australian dollar ] [Bulgarian lev ] [Brazilian real ]  \\\n",
       "5776   1999-01-08               1.8406              NaN               NaN   \n",
       "5777   1999-01-07               1.8474              NaN               NaN   \n",
       "5778   1999-01-06               1.8820              NaN               NaN   \n",
       "5779   1999-01-05               1.8944              NaN               NaN   \n",
       "5780   1999-01-04               1.9100              NaN               NaN   \n",
       "\n",
       "     [Canadian dollar ] [Swiss franc ] [Chinese yuan renminbi ]  \\\n",
       "5776             1.7643         1.6138                      NaN   \n",
       "5777             1.7602         1.6165                      NaN   \n",
       "5778             1.7711         1.6116                      NaN   \n",
       "5779             1.7965         1.6123                      NaN   \n",
       "5780             1.8004         1.6168                      NaN   \n",
       "\n",
       "     [Cypriot pound ] [Czech koruna ] [Danish krone ]  ... [Romanian leu ]  \\\n",
       "5776          0.58187          34.938          7.4433  ...          1.3143   \n",
       "5777          0.58187          34.886          7.4431  ...          1.3092   \n",
       "5778          0.58200          34.850          7.4452  ...          1.3168   \n",
       "5779          0.58230          34.917          7.4495  ...          1.3168   \n",
       "5780          0.58231          35.107          7.4501  ...          1.3111   \n",
       "\n",
       "     [Russian rouble ] [Swedish krona ] [Singapore dollar ]  \\\n",
       "5776           27.2075           9.1650              1.9537   \n",
       "5777           26.9876           9.1800              1.9436   \n",
       "5778           27.4315           9.3050              1.9699   \n",
       "5779           26.5876           9.4025              1.9655   \n",
       "5780           25.2875           9.4696              1.9554   \n",
       "\n",
       "     [Slovenian tolar ] [Slovak koruna ] [Thai baht ] [Turkish lira ]  \\\n",
       "5776           188.8400           42.560      42.5590          0.3718   \n",
       "5777           188.8000           42.765      42.1678          0.3701   \n",
       "5778           188.7000           42.778      42.6949          0.3722   \n",
       "5779           188.7750           42.848      42.5048          0.3728   \n",
       "5780           189.0450           42.991      42.6799          0.3723   \n",
       "\n",
       "     [US dollar ]  [South African rand ]  \n",
       "5776       1.1659                 6.7855  \n",
       "5777       1.1632                 6.8283  \n",
       "5778       1.1743                 6.7307  \n",
       "5779       1.1790                 6.7975  \n",
       "5780       1.1789                 6.9358  \n",
       "\n",
       "[5 rows x 41 columns]"
      ],
      "text/html": "<div>\n<style scoped>\n    .dataframe tbody tr th:only-of-type {\n        vertical-align: middle;\n    }\n\n    .dataframe tbody tr th {\n        vertical-align: top;\n    }\n\n    .dataframe thead th {\n        text-align: right;\n    }\n</style>\n<table border=\"1\" class=\"dataframe\">\n  <thead>\n    <tr style=\"text-align: right;\">\n      <th></th>\n      <th>Period\\Unit:</th>\n      <th>[Australian dollar ]</th>\n      <th>[Bulgarian lev ]</th>\n      <th>[Brazilian real ]</th>\n      <th>[Canadian dollar ]</th>\n      <th>[Swiss franc ]</th>\n      <th>[Chinese yuan renminbi ]</th>\n      <th>[Cypriot pound ]</th>\n      <th>[Czech koruna ]</th>\n      <th>[Danish krone ]</th>\n      <th>...</th>\n      <th>[Romanian leu ]</th>\n      <th>[Russian rouble ]</th>\n      <th>[Swedish krona ]</th>\n      <th>[Singapore dollar ]</th>\n      <th>[Slovenian tolar ]</th>\n      <th>[Slovak koruna ]</th>\n      <th>[Thai baht ]</th>\n      <th>[Turkish lira ]</th>\n      <th>[US dollar ]</th>\n      <th>[South African rand ]</th>\n    </tr>\n  </thead>\n  <tbody>\n    <tr>\n      <th>5776</th>\n      <td>1999-01-08</td>\n      <td>1.8406</td>\n      <td>NaN</td>\n      <td>NaN</td>\n      <td>1.7643</td>\n      <td>1.6138</td>\n      <td>NaN</td>\n      <td>0.58187</td>\n      <td>34.938</td>\n      <td>7.4433</td>\n      <td>...</td>\n      <td>1.3143</td>\n      <td>27.2075</td>\n      <td>9.1650</td>\n      <td>1.9537</td>\n      <td>188.8400</td>\n      <td>42.560</td>\n      <td>42.5590</td>\n      <td>0.3718</td>\n      <td>1.1659</td>\n      <td>6.7855</td>\n    </tr>\n    <tr>\n      <th>5777</th>\n      <td>1999-01-07</td>\n      <td>1.8474</td>\n      <td>NaN</td>\n      <td>NaN</td>\n      <td>1.7602</td>\n      <td>1.6165</td>\n      <td>NaN</td>\n      <td>0.58187</td>\n      <td>34.886</td>\n      <td>7.4431</td>\n      <td>...</td>\n      <td>1.3092</td>\n      <td>26.9876</td>\n      <td>9.1800</td>\n      <td>1.9436</td>\n      <td>188.8000</td>\n      <td>42.765</td>\n      <td>42.1678</td>\n      <td>0.3701</td>\n      <td>1.1632</td>\n      <td>6.8283</td>\n    </tr>\n    <tr>\n      <th>5778</th>\n      <td>1999-01-06</td>\n      <td>1.8820</td>\n      <td>NaN</td>\n      <td>NaN</td>\n      <td>1.7711</td>\n      <td>1.6116</td>\n      <td>NaN</td>\n      <td>0.58200</td>\n      <td>34.850</td>\n      <td>7.4452</td>\n      <td>...</td>\n      <td>1.3168</td>\n      <td>27.4315</td>\n      <td>9.3050</td>\n      <td>1.9699</td>\n      <td>188.7000</td>\n      <td>42.778</td>\n      <td>42.6949</td>\n      <td>0.3722</td>\n      <td>1.1743</td>\n      <td>6.7307</td>\n    </tr>\n    <tr>\n      <th>5779</th>\n      <td>1999-01-05</td>\n      <td>1.8944</td>\n      <td>NaN</td>\n      <td>NaN</td>\n      <td>1.7965</td>\n      <td>1.6123</td>\n      <td>NaN</td>\n      <td>0.58230</td>\n      <td>34.917</td>\n      <td>7.4495</td>\n      <td>...</td>\n      <td>1.3168</td>\n      <td>26.5876</td>\n      <td>9.4025</td>\n      <td>1.9655</td>\n      <td>188.7750</td>\n      <td>42.848</td>\n      <td>42.5048</td>\n      <td>0.3728</td>\n      <td>1.1790</td>\n      <td>6.7975</td>\n    </tr>\n    <tr>\n      <th>5780</th>\n      <td>1999-01-04</td>\n      <td>1.9100</td>\n      <td>NaN</td>\n      <td>NaN</td>\n      <td>1.8004</td>\n      <td>1.6168</td>\n      <td>NaN</td>\n      <td>0.58231</td>\n      <td>35.107</td>\n      <td>7.4501</td>\n      <td>...</td>\n      <td>1.3111</td>\n      <td>25.2875</td>\n      <td>9.4696</td>\n      <td>1.9554</td>\n      <td>189.0450</td>\n      <td>42.991</td>\n      <td>42.6799</td>\n      <td>0.3723</td>\n      <td>1.1789</td>\n      <td>6.9358</td>\n    </tr>\n  </tbody>\n</table>\n<p>5 rows × 41 columns</p>\n</div>"
     },
     "metadata": {},
     "execution_count": 39
    }
   ],
   "source": [
    "exchange_rates.tail(5)"
   ]
  },
  {
   "cell_type": "code",
   "execution_count": 40,
   "metadata": {},
   "outputs": [
    {
     "output_type": "stream",
     "name": "stdout",
     "text": [
      "<class 'pandas.core.frame.DataFrame'>\nRangeIndex: 5781 entries, 0 to 5780\nData columns (total 41 columns):\n #   Column                    Non-Null Count  Dtype  \n---  ------                    --------------  -----  \n 0   Period\\Unit:              5781 non-null   object \n 1   [Australian dollar ]      5781 non-null   object \n 2   [Bulgarian lev ]          5379 non-null   object \n 3   [Brazilian real ]         5513 non-null   object \n 4   [Canadian dollar ]        5781 non-null   object \n 5   [Swiss franc ]            5781 non-null   object \n 6   [Chinese yuan renminbi ]  5513 non-null   object \n 7   [Cypriot pound ]          2346 non-null   object \n 8   [Czech koruna ]           5781 non-null   object \n 9   [Danish krone ]           5781 non-null   object \n 10  [Estonian kroon ]         3130 non-null   object \n 11  [UK pound sterling ]      5781 non-null   object \n 12  [Greek drachma ]          520 non-null    object \n 13  [Hong Kong dollar ]       5781 non-null   object \n 14  [Croatian kuna ]          5513 non-null   object \n 15  [Hungarian forint ]       5781 non-null   object \n 16  [Indonesian rupiah ]      5781 non-null   object \n 17  [Israeli shekel ]         5513 non-null   object \n 18  [Indian rupee ]           5513 non-null   object \n 19  [Iceland krona ]          3374 non-null   float64\n 20  [Japanese yen ]           5781 non-null   object \n 21  [Korean won ]             5781 non-null   object \n 22  [Lithuanian litas ]       4159 non-null   object \n 23  [Latvian lats ]           3904 non-null   object \n 24  [Maltese lira ]           2346 non-null   object \n 25  [Mexican peso ]           5781 non-null   object \n 26  [Malaysian ringgit ]      5781 non-null   object \n 27  [Norwegian krone ]        5781 non-null   object \n 28  [New Zealand dollar ]     5781 non-null   object \n 29  [Philippine peso ]        5781 non-null   object \n 30  [Polish zloty ]           5781 non-null   object \n 31  [Romanian leu ]           5719 non-null   float64\n 32  [Russian rouble ]         5781 non-null   object \n 33  [Swedish krona ]          5781 non-null   object \n 34  [Singapore dollar ]       5781 non-null   object \n 35  [Slovenian tolar ]        2085 non-null   object \n 36  [Slovak koruna ]          2608 non-null   object \n 37  [Thai baht ]              5781 non-null   object \n 38  [Turkish lira ]           5719 non-null   float64\n 39  [US dollar ]              5781 non-null   object \n 40  [South African rand ]     5781 non-null   object \ndtypes: float64(3), object(38)\nmemory usage: 1.8+ MB\n"
     ]
    }
   ],
   "source": [
    "exchange_rates.info()"
   ]
  },
  {
   "cell_type": "code",
   "execution_count": 41,
   "metadata": {},
   "outputs": [],
   "source": [
    "exchange_rates.rename(columns={'[US dollar ]': 'US_dollar', 'Period\\\\Unit:': 'Time'}, inplace=True)\n",
    "exchange_rates['Time'] = pd.to_datetime(exchange_rates['Time'])\n",
    "exchange_rates.sort_values('Time', inplace=True)\n",
    "exchange_rates.reset_index(drop=True, inplace=True)"
   ]
  },
  {
   "cell_type": "code",
   "execution_count": 42,
   "metadata": {},
   "outputs": [
    {
     "output_type": "execute_result",
     "data": {
      "text/plain": [
       "-         62\n",
       "1.2276     9\n",
       "1.1215     8\n",
       "1.1305     7\n",
       "1.3532     6\n",
       "          ..\n",
       "1.4473     1\n",
       "1.4654     1\n",
       "0.9738     1\n",
       "1.0678     1\n",
       "0.8494     1\n",
       "Name: US_dollar, Length: 3549, dtype: int64"
      ]
     },
     "metadata": {},
     "execution_count": 42
    }
   ],
   "source": [
    "euro_to_dollar = exchange_rates.loc[:,[\"US_dollar\", \"Time\"]]\n",
    "euro_to_dollar[\"US_dollar\"].value_counts()\n"
   ]
  },
  {
   "source": [
    "### As we can see, the `US dollars` column contains some null values (`-` values above). Those values will be dropped and the column will be transformed into `float` type 🕵🏻‍♂️ "
   ],
   "cell_type": "markdown",
   "metadata": {}
  },
  {
   "cell_type": "code",
   "execution_count": 48,
   "metadata": {},
   "outputs": [
    {
     "output_type": "error",
     "ename": "TypeError",
     "evalue": "convert_dtypes() got an unexpected keyword argument 'convert_floating'",
     "traceback": [
      "\u001b[0;31m---------------------------------------------------------------------------\u001b[0m",
      "\u001b[0;31mTypeError\u001b[0m                                 Traceback (most recent call last)",
      "\u001b[0;32m<ipython-input-48-da678723b0fb>\u001b[0m in \u001b[0;36m<module>\u001b[0;34m\u001b[0m\n\u001b[1;32m      1\u001b[0m \u001b[0meuro_to_dollar\u001b[0m \u001b[0;34m=\u001b[0m \u001b[0meuro_to_dollar\u001b[0m\u001b[0;34m.\u001b[0m\u001b[0mloc\u001b[0m\u001b[0;34m[\u001b[0m\u001b[0meuro_to_dollar\u001b[0m\u001b[0;34m[\u001b[0m\u001b[0;34m\"US_dollar\"\u001b[0m\u001b[0;34m]\u001b[0m\u001b[0;34m!=\u001b[0m \u001b[0;34m'-'\u001b[0m\u001b[0;34m,\u001b[0m\u001b[0;34m:\u001b[0m\u001b[0;34m]\u001b[0m\u001b[0;34m\u001b[0m\u001b[0;34m\u001b[0m\u001b[0m\n\u001b[1;32m      2\u001b[0m \u001b[0meuro_to_dollar\u001b[0m\u001b[0;34m.\u001b[0m\u001b[0mdropna\u001b[0m\u001b[0;34m(\u001b[0m\u001b[0minplace\u001b[0m\u001b[0;34m=\u001b[0m\u001b[0;32mTrue\u001b[0m\u001b[0;34m)\u001b[0m\u001b[0;34m\u001b[0m\u001b[0;34m\u001b[0m\u001b[0m\n\u001b[0;32m----> 3\u001b[0;31m \u001b[0meuro_to_dollar\u001b[0m\u001b[0;34m[\u001b[0m\u001b[0;34m\"US_dollar\"\u001b[0m\u001b[0;34m]\u001b[0m \u001b[0;34m=\u001b[0m \u001b[0meuro_to_dollar\u001b[0m\u001b[0;34m[\u001b[0m\u001b[0;34m\"US_dollar\"\u001b[0m\u001b[0;34m]\u001b[0m\u001b[0;34m.\u001b[0m\u001b[0mconvert_dtypes\u001b[0m\u001b[0;34m(\u001b[0m \u001b[0mconvert_floating\u001b[0m\u001b[0;34m=\u001b[0m\u001b[0;32mTrue\u001b[0m\u001b[0;34m)\u001b[0m\u001b[0;34m\u001b[0m\u001b[0;34m\u001b[0m\u001b[0m\n\u001b[0m\u001b[1;32m      4\u001b[0m \u001b[0meuro_to_dollar\u001b[0m\u001b[0;34m[\u001b[0m\u001b[0;34m\"US_dollar\"\u001b[0m\u001b[0;34m]\u001b[0m\u001b[0;34m.\u001b[0m\u001b[0mvalue_counts\u001b[0m\u001b[0;34m(\u001b[0m\u001b[0;34m)\u001b[0m\u001b[0;34m\u001b[0m\u001b[0;34m\u001b[0m\u001b[0m\n",
      "\u001b[0;31mTypeError\u001b[0m: convert_dtypes() got an unexpected keyword argument 'convert_floating'"
     ]
    }
   ],
   "source": [
    "euro_to_dollar = euro_to_dollar.loc[euro_to_dollar[\"US_dollar\"]!= '-',:]\n",
    "euro_to_dollar.dropna(inplace=True)\n",
    "euro_to_dollar[\"US_dollar\"] = pd.to_numeric(euro_to_dollar[\"US_dollar\"], errors='coerce').astype('float64')"
   ]
  },
  {
   "cell_type": "code",
   "execution_count": null,
   "metadata": {},
   "outputs": [],
   "source": []
  },
  {
   "cell_type": "code",
   "execution_count": null,
   "metadata": {},
   "outputs": [],
   "source": []
  },
  {
   "cell_type": "code",
   "execution_count": null,
   "metadata": {},
   "outputs": [],
   "source": []
  },
  {
   "cell_type": "code",
   "execution_count": null,
   "metadata": {},
   "outputs": [],
   "source": []
  }
 ]
}