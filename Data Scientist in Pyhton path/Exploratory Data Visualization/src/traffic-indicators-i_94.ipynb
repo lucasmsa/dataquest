{
 "metadata": {
  "language_info": {
   "codemirror_mode": {
    "name": "ipython",
    "version": 3
   },
   "file_extension": ".py",
   "mimetype": "text/x-python",
   "name": "python",
   "nbconvert_exporter": "python",
   "pygments_lexer": "ipython3",
   "version": "3.8.5"
  },
  "orig_nbformat": 2,
  "kernelspec": {
   "name": "python385jvsc74a57bd02aa01d7081ee7c07aadc39687ddc6aa130cdaaea914e20506ed6f4ece119d5e2",
   "display_name": "Python 3.8.5 64-bit ('base': conda)"
  },
  "metadata": {
   "interpreter": {
    "hash": "ac2eaa0ea0ebeafcc7822e65e46aa9d4f966f30b695406963e145ea4a91cd4fc"
   }
  }
 },
 "nbformat": 4,
 "nbformat_minor": 2,
 "cells": [
  {
   "source": [
    "## Identify Indicators related to heavy traffic on the I-94 Interstate Highway 🛣 🚘"
   ],
   "cell_type": "markdown",
   "metadata": {}
  },
  {
   "cell_type": "code",
   "execution_count": 7,
   "metadata": {},
   "outputs": [],
   "source": [
    "import pandas as pd\n",
    "import matplotlib.pyplot as plt\n",
    "%matplotlib inline"
   ]
  },
  {
   "cell_type": "code",
   "execution_count": 3,
   "metadata": {},
   "outputs": [],
   "source": [
    "traffic_dataset = pd.read_csv('../dataset/Metro_Interstate_Traffic_Volume.csv')"
   ]
  },
  {
   "cell_type": "code",
   "execution_count": 4,
   "metadata": {},
   "outputs": [
    {
     "output_type": "execute_result",
     "data": {
      "text/plain": [
       "  holiday    temp  rain_1h  snow_1h  clouds_all weather_main  \\\n",
       "0    None  288.28      0.0      0.0          40       Clouds   \n",
       "1    None  289.36      0.0      0.0          75       Clouds   \n",
       "2    None  289.58      0.0      0.0          90       Clouds   \n",
       "3    None  290.13      0.0      0.0          90       Clouds   \n",
       "4    None  291.14      0.0      0.0          75       Clouds   \n",
       "\n",
       "  weather_description            date_time  traffic_volume  \n",
       "0    scattered clouds  2012-10-02 09:00:00            5545  \n",
       "1       broken clouds  2012-10-02 10:00:00            4516  \n",
       "2     overcast clouds  2012-10-02 11:00:00            4767  \n",
       "3     overcast clouds  2012-10-02 12:00:00            5026  \n",
       "4       broken clouds  2012-10-02 13:00:00            4918  "
      ],
      "text/html": "<div>\n<style scoped>\n    .dataframe tbody tr th:only-of-type {\n        vertical-align: middle;\n    }\n\n    .dataframe tbody tr th {\n        vertical-align: top;\n    }\n\n    .dataframe thead th {\n        text-align: right;\n    }\n</style>\n<table border=\"1\" class=\"dataframe\">\n  <thead>\n    <tr style=\"text-align: right;\">\n      <th></th>\n      <th>holiday</th>\n      <th>temp</th>\n      <th>rain_1h</th>\n      <th>snow_1h</th>\n      <th>clouds_all</th>\n      <th>weather_main</th>\n      <th>weather_description</th>\n      <th>date_time</th>\n      <th>traffic_volume</th>\n    </tr>\n  </thead>\n  <tbody>\n    <tr>\n      <th>0</th>\n      <td>None</td>\n      <td>288.28</td>\n      <td>0.0</td>\n      <td>0.0</td>\n      <td>40</td>\n      <td>Clouds</td>\n      <td>scattered clouds</td>\n      <td>2012-10-02 09:00:00</td>\n      <td>5545</td>\n    </tr>\n    <tr>\n      <th>1</th>\n      <td>None</td>\n      <td>289.36</td>\n      <td>0.0</td>\n      <td>0.0</td>\n      <td>75</td>\n      <td>Clouds</td>\n      <td>broken clouds</td>\n      <td>2012-10-02 10:00:00</td>\n      <td>4516</td>\n    </tr>\n    <tr>\n      <th>2</th>\n      <td>None</td>\n      <td>289.58</td>\n      <td>0.0</td>\n      <td>0.0</td>\n      <td>90</td>\n      <td>Clouds</td>\n      <td>overcast clouds</td>\n      <td>2012-10-02 11:00:00</td>\n      <td>4767</td>\n    </tr>\n    <tr>\n      <th>3</th>\n      <td>None</td>\n      <td>290.13</td>\n      <td>0.0</td>\n      <td>0.0</td>\n      <td>90</td>\n      <td>Clouds</td>\n      <td>overcast clouds</td>\n      <td>2012-10-02 12:00:00</td>\n      <td>5026</td>\n    </tr>\n    <tr>\n      <th>4</th>\n      <td>None</td>\n      <td>291.14</td>\n      <td>0.0</td>\n      <td>0.0</td>\n      <td>75</td>\n      <td>Clouds</td>\n      <td>broken clouds</td>\n      <td>2012-10-02 13:00:00</td>\n      <td>4918</td>\n    </tr>\n  </tbody>\n</table>\n</div>"
     },
     "metadata": {},
     "execution_count": 4
    }
   ],
   "source": [
    "traffic_dataset.head(5)"
   ]
  },
  {
   "cell_type": "code",
   "execution_count": 5,
   "metadata": {},
   "outputs": [
    {
     "output_type": "execute_result",
     "data": {
      "text/plain": [
       "  holiday    temp  rain_1h  snow_1h  clouds_all weather_main  \\\n",
       "0    None  288.28      0.0      0.0          40       Clouds   \n",
       "1    None  289.36      0.0      0.0          75       Clouds   \n",
       "2    None  289.58      0.0      0.0          90       Clouds   \n",
       "3    None  290.13      0.0      0.0          90       Clouds   \n",
       "4    None  291.14      0.0      0.0          75       Clouds   \n",
       "\n",
       "  weather_description            date_time  traffic_volume  \n",
       "0    scattered clouds  2012-10-02 09:00:00            5545  \n",
       "1       broken clouds  2012-10-02 10:00:00            4516  \n",
       "2     overcast clouds  2012-10-02 11:00:00            4767  \n",
       "3     overcast clouds  2012-10-02 12:00:00            5026  \n",
       "4       broken clouds  2012-10-02 13:00:00            4918  "
      ],
      "text/html": "<div>\n<style scoped>\n    .dataframe tbody tr th:only-of-type {\n        vertical-align: middle;\n    }\n\n    .dataframe tbody tr th {\n        vertical-align: top;\n    }\n\n    .dataframe thead th {\n        text-align: right;\n    }\n</style>\n<table border=\"1\" class=\"dataframe\">\n  <thead>\n    <tr style=\"text-align: right;\">\n      <th></th>\n      <th>holiday</th>\n      <th>temp</th>\n      <th>rain_1h</th>\n      <th>snow_1h</th>\n      <th>clouds_all</th>\n      <th>weather_main</th>\n      <th>weather_description</th>\n      <th>date_time</th>\n      <th>traffic_volume</th>\n    </tr>\n  </thead>\n  <tbody>\n    <tr>\n      <th>0</th>\n      <td>None</td>\n      <td>288.28</td>\n      <td>0.0</td>\n      <td>0.0</td>\n      <td>40</td>\n      <td>Clouds</td>\n      <td>scattered clouds</td>\n      <td>2012-10-02 09:00:00</td>\n      <td>5545</td>\n    </tr>\n    <tr>\n      <th>1</th>\n      <td>None</td>\n      <td>289.36</td>\n      <td>0.0</td>\n      <td>0.0</td>\n      <td>75</td>\n      <td>Clouds</td>\n      <td>broken clouds</td>\n      <td>2012-10-02 10:00:00</td>\n      <td>4516</td>\n    </tr>\n    <tr>\n      <th>2</th>\n      <td>None</td>\n      <td>289.58</td>\n      <td>0.0</td>\n      <td>0.0</td>\n      <td>90</td>\n      <td>Clouds</td>\n      <td>overcast clouds</td>\n      <td>2012-10-02 11:00:00</td>\n      <td>4767</td>\n    </tr>\n    <tr>\n      <th>3</th>\n      <td>None</td>\n      <td>290.13</td>\n      <td>0.0</td>\n      <td>0.0</td>\n      <td>90</td>\n      <td>Clouds</td>\n      <td>overcast clouds</td>\n      <td>2012-10-02 12:00:00</td>\n      <td>5026</td>\n    </tr>\n    <tr>\n      <th>4</th>\n      <td>None</td>\n      <td>291.14</td>\n      <td>0.0</td>\n      <td>0.0</td>\n      <td>75</td>\n      <td>Clouds</td>\n      <td>broken clouds</td>\n      <td>2012-10-02 13:00:00</td>\n      <td>4918</td>\n    </tr>\n  </tbody>\n</table>\n</div>"
     },
     "metadata": {},
     "execution_count": 5
    }
   ],
   "source": [
    "traffic_dataset.head(5)"
   ]
  },
  {
   "cell_type": "code",
   "execution_count": 6,
   "metadata": {},
   "outputs": [
    {
     "output_type": "stream",
     "name": "stdout",
     "text": [
      "<class 'pandas.core.frame.DataFrame'>\nRangeIndex: 48204 entries, 0 to 48203\nData columns (total 9 columns):\n #   Column               Non-Null Count  Dtype  \n---  ------               --------------  -----  \n 0   holiday              48204 non-null  object \n 1   temp                 48204 non-null  float64\n 2   rain_1h              48204 non-null  float64\n 3   snow_1h              48204 non-null  float64\n 4   clouds_all           48204 non-null  int64  \n 5   weather_main         48204 non-null  object \n 6   weather_description  48204 non-null  object \n 7   date_time            48204 non-null  object \n 8   traffic_volume       48204 non-null  int64  \ndtypes: float64(3), int64(2), object(4)\nmemory usage: 3.3+ MB\n"
     ]
    }
   ],
   "source": [
    "traffic_dataset.info()"
   ]
  },
  {
   "cell_type": "code",
   "execution_count": 21,
   "metadata": {},
   "outputs": [
    {
     "output_type": "execute_result",
     "data": {
      "text/plain": [
       "count    48204.000000\n",
       "mean      3259.818355\n",
       "std       1986.860670\n",
       "min          0.000000\n",
       "25%       1193.000000\n",
       "50%       3380.000000\n",
       "75%       4933.000000\n",
       "max       7280.000000\n",
       "Name: traffic_volume, dtype: float64"
      ]
     },
     "metadata": {},
     "execution_count": 21
    },
    {
     "output_type": "display_data",
     "data": {
      "text/plain": "<Figure size 432x288 with 1 Axes>",
      "image/png": "[encoded data removed]"
     },
     "metadata": {
      "needs_background": "light"
     }
    }
   ],
   "source": [
    "traffic_dataset.loc[:,\"traffic_volume\"].plot(kind=\"hist\")\n",
    "traffic_dataset[\"traffic_volume\"].describe()"
   ]
  },
  {
   "source": [
    "### Notice that the traffic usualy is between 0 and 7280 cars passsing on the station per hour. Having it's mean around 3260, furthermore, we can also derive from the graph that the traffic in the region is low (0, 1000) a lot of times. Now we can investigate more what makes the traffic so high in volume on some of the entries, we'll start by separating nighttime from daytime data 🕵🏻‍♂️"
   ],
   "cell_type": "markdown",
   "metadata": {}
  },
  {
   "cell_type": "code",
   "execution_count": 62,
   "metadata": {},
   "outputs": [],
   "source": [
    "traffic_dataset[\"date_time\"] = pd.to_datetime(traffic_dataset[\"date_time\"])\n",
    "\n",
    "daytime_dataset = traffic_dataset.loc[(traffic_dataset[\"date_time\"].dt.hour >= 7) & (traffic_dataset[\"date_time\"].dt.hour < 19),:]\n",
    "nighttime_dataset = traffic_dataset.loc[(traffic_dataset[\"date_time\"].dt.hour >= 19) | (traffic_dataset[\"date_time\"].dt.hour < 7),:] "
   ]
  },
  {
   "cell_type": "code",
   "execution_count": 106,
   "metadata": {},
   "outputs": [],
   "source": [
    "def generate_traffic_graph_from_time_slice(dataset: pd.DataFrame, type: str, position: int):\n",
    "    dataset.loc[:,\"traffic_volume\"].plot(title=f'{type} traffic volume', ax=axes[0, position], kind='hist', fontsize=12, xlim=[0, 7500], ylim=[0, 8000])\n",
    "    axes[0, position].set_xlabel(\"Traffic Volume\")\n",
    "    axes[0, position].set_ylabel(\"Vehicles passing station per hour\")\n"
   ]
  },
  {
   "source": [
    "### Now that we've separated the traffic values from nighttime (7pm till' 7am) to daytime (7am till' 7pm), we can check the traffic volume related to each time, and try to see some correlation between the hour and traffic volume 🚏"
   ],
   "cell_type": "markdown",
   "metadata": {}
  },
  {
   "cell_type": "code",
   "execution_count": 107,
   "metadata": {},
   "outputs": [
    {
     "output_type": "display_data",
     "data": {
      "text/plain": "<Figure size 432x288 with 2 Axes>",
      "image/png": "[encoded data removed]"
     },
     "metadata": {
      "needs_background": "light"
     }
    }
   ],
   "source": [
    "fig, axes = plt.subplots(nrows=1, ncols=2, squeeze=False)\n",
    "generate_traffic_graph_from_time_slice(daytime_dataset, \"Daytime\", 0)\n",
    "generate_traffic_graph_from_time_slice(nighttime_dataset, \"Nighttime\", 1)\n",
    "fig.tight_layout()\n",
    "plt.show()"
   ]
  },
  {
   "cell_type": "code",
   "execution_count": 110,
   "metadata": {},
   "outputs": [
    {
     "output_type": "execute_result",
     "data": {
      "text/plain": [
       "count    23877.000000\n",
       "mean      4762.047452\n",
       "std       1174.546482\n",
       "min          0.000000\n",
       "25%       4252.000000\n",
       "50%       4820.000000\n",
       "75%       5559.000000\n",
       "max       7280.000000\n",
       "Name: traffic_volume, dtype: float64"
      ]
     },
     "metadata": {},
     "execution_count": 110
    }
   ],
   "source": [
    "daytime_dataset[\"traffic_volume\"].describe()"
   ]
  },
  {
   "cell_type": "code",
   "execution_count": 111,
   "metadata": {},
   "outputs": [
    {
     "output_type": "execute_result",
     "data": {
      "text/plain": [
       "count    24327.000000\n",
       "mean      1785.377441\n",
       "std       1441.951197\n",
       "min          0.000000\n",
       "25%        530.000000\n",
       "50%       1287.000000\n",
       "75%       2819.000000\n",
       "max       6386.000000\n",
       "Name: traffic_volume, dtype: float64"
      ]
     },
     "metadata": {},
     "execution_count": 111
    }
   ],
   "source": [
    "nighttime_dataset[\"traffic_volume\"].describe()"
   ]
  },
  {
   "cell_type": "code",
   "execution_count": null,
   "metadata": {},
   "outputs": [],
   "source": []
  }
 ]
}