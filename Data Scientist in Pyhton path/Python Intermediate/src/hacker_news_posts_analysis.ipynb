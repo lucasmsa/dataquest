{
 "cells": [
  {
   "cell_type": "markdown",
   "metadata": {},
   "source": [
    "## HackerNews Posts Analysis 💻\n",
    "- Check whether questions (Ask HN) or project presentation (Show HN) receives more attention\n",
    "- Inspect if the post creation time influences on its relevance"
   ]
  },
  {
   "cell_type": "code",
   "execution_count": 6,
   "metadata": {},
   "outputs": [],
   "source": [
    "from csv import reader"
   ]
  },
  {
   "cell_type": "code",
   "execution_count": 7,
   "metadata": {},
   "outputs": [],
   "source": [
    "hacker_news_dataset = list(reader(open('../dataset/HN_posts_year_to_Sep_26_2016.csv')))"
   ]
  },
  {
   "cell_type": "markdown",
   "metadata": {},
   "source": [
    "### Displaying the first five rows of the dataset"
   ]
  },
  {
   "cell_type": "code",
   "execution_count": 28,
   "metadata": {
    "scrolled": true
   },
   "outputs": [
    {
     "name": "stdout",
     "output_type": "stream",
     "text": [
      "Columns: ['id', 'title', 'url', 'num_points', 'num_comments', 'author', 'created_at']\n",
      "\n",
      "['12579008', 'You have two days to comment if you want stem cells to be classified as your own', 'http://www.regulations.gov/document?D=FDA-2015-D-3719-0018', '1', '0', 'altstar', '9/26/2016 3:26']\n",
      "\n",
      "['12579005', 'SQLAR  the SQLite Archiver', 'https://www.sqlite.org/sqlar/doc/trunk/README.md', '1', '0', 'blacksqr', '9/26/2016 3:24']\n",
      "\n",
      "['12578997', 'What if we just printed a flatscreen television on the side of our boxes?', 'https://medium.com/vanmoof/our-secrets-out-f21c1f03fdc8#.ietxmez43', '1', '0', 'pavel_lishin', '9/26/2016 3:19']\n",
      "\n",
      "['12578989', 'algorithmic music', 'http://cacm.acm.org/magazines/2011/7/109891-algorithmic-composition/fulltext', '1', '0', 'poindontcare', '9/26/2016 3:16']\n",
      "\n",
      "['12578979', 'How the Data Vault Enables the Next-Gen Data Warehouse and Data Lake', 'https://www.talend.com/blog/2016/05/12/talend-and-Â\\x93the-data-vaultÂ\\x94', '1', '0', 'markgainor1', '9/26/2016 3:14']\n",
      "\n"
     ]
    }
   ],
   "source": [
    "header = hacker_news_dataset.pop(0) if hacker_news_dataset[0][0] == 'id' else header\n",
    "nl = \"\\n\"\n",
    "print(f\"Columns: {header}\\n\")\n",
    "for row in hacker_news_dataset[:5]:\n",
    "    print(f'{row}\\n')"
   ]
  },
  {
   "cell_type": "markdown",
   "metadata": {},
   "source": [
    "### Filtering the dataset by separating into Ask HN, Show HN and other based on the post title"
   ]
  },
  {
   "cell_type": "code",
   "execution_count": 32,
   "metadata": {},
   "outputs": [
    {
     "name": "stdout",
     "output_type": "stream",
     "text": [
      "Ask posts: 9122\n",
      "Show posts: 10150\n",
      "Other: 273847\n"
     ]
    }
   ],
   "source": [
    "def filter_dataset_post(dataset):\n",
    "    ask_posts = []\n",
    "    show_posts = []\n",
    "    other_posts = []\n",
    "    \n",
    "    for row in dataset:\n",
    "        title = row[1]\n",
    "        if title.startswith('Ask HN'):\n",
    "            ask_posts.append(row)\n",
    "        elif title.startswith('Show HN'):\n",
    "            show_posts.append(row)\n",
    "        else:\n",
    "            other_posts.append(row)\n",
    "            \n",
    "    return ask_posts, show_posts, other_posts\n",
    "\n",
    "ask_posts, show_posts, other_posts = filter_dataset_post(dataset=hacker_news_dataset)\n",
    "print(f'Ask posts: {len(ask_posts)}\\nShow posts: {len(show_posts)}\\nOther: {len(other_posts)}')"
   ]
  },
  {
   "cell_type": "markdown",
   "metadata": {},
   "source": [
    "### By averaging how many comments per post Ask HN and Show HN have we can see that Ask HN posts contains, on average, more than the twice the number of Show HN posts"
   ]
  },
  {
   "cell_type": "code",
   "execution_count": 40,
   "metadata": {},
   "outputs": [
    {
     "name": "stdout",
     "output_type": "stream",
     "text": [
      "Ask HN average number of comments: 10.41\n",
      "Show HN average number of comments: 4.89\n"
     ]
    }
   ],
   "source": [
    "def count_comments(dataset):\n",
    "    comments_sum = 0\n",
    "    for row in dataset:\n",
    "        comments = int(row[4])\n",
    "        comments_sum += comments\n",
    "        \n",
    "    avg_comments = comments_sum/len(dataset)\n",
    "    return comments_sum, round(avg_comments,2)\n",
    "\n",
    "comments_ask_posts, avg_comments_ask_posts = count_comments(ask_posts)\n",
    "commnets_show_posts, avg_comments_show_posts = count_comments(show_posts)\n",
    "\n",
    "print(f'Ask HN average number of comments: {avg_comments_ask_posts}\\n\\\n",
    "Show HN average number of comments: {avg_comments_show_posts}')"
   ]
  }
 ],
 "metadata": {
  "kernelspec": {
   "display_name": "Python 3",
   "language": "python",
   "name": "python3"
  },
  "language_info": {
   "codemirror_mode": {
    "name": "ipython",
    "version": 3
   },
   "file_extension": ".py",
   "mimetype": "text/x-python",
   "name": "python",
   "nbconvert_exporter": "python",
   "pygments_lexer": "ipython3",
   "version": "3.8.5"
  }
 },
 "nbformat": 4,
 "nbformat_minor": 4
}
