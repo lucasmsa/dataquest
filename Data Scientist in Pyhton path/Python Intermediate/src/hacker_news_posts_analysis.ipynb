{
 "cells": [
  {
   "cell_type": "markdown",
   "metadata": {},
   "source": [
    "## HackerNews Posts Analysis 💻 \n",
    "[Dataset](https://www.kaggle.com/hacker-news/hacker-news-posts)\n",
    "- Check if questions (Ask HN) or project presentation (Show HN) receives more attention\n",
    "- Inspect if the post creation time influences on its relevance"
   ]
  },
  {
   "cell_type": "code",
   "execution_count": 10,
   "metadata": {},
   "outputs": [],
   "source": [
    "from csv import reader\n",
    "import datetime as dt"
   ]
  },
  {
   "cell_type": "code",
   "execution_count": 6,
   "metadata": {},
   "outputs": [],
   "source": [
    "hacker_news_dataset = list(reader(open('../dataset/HN_posts_year_to_Sep_26_2016.csv')))"
   ]
  },
  {
   "cell_type": "markdown",
   "metadata": {},
   "source": [
    "### Displaying the first five rows of the dataset"
   ]
  },
  {
   "cell_type": "code",
   "execution_count": 7,
   "metadata": {
    "scrolled": true
   },
   "outputs": [
    {
     "name": "stdout",
     "output_type": "stream",
     "text": [
      "Columns: ['id', 'title', 'url', 'num_points', 'num_comments', 'author', 'created_at']\n",
      "\n",
      "['12579008', 'You have two days to comment if you want stem cells to be classified as your own', 'http://www.regulations.gov/document?D=FDA-2015-D-3719-0018', '1', '0', 'altstar', '9/26/2016 3:26']\n",
      "\n",
      "['12579005', 'SQLAR  the SQLite Archiver', 'https://www.sqlite.org/sqlar/doc/trunk/README.md', '1', '0', 'blacksqr', '9/26/2016 3:24']\n",
      "\n",
      "['12578997', 'What if we just printed a flatscreen television on the side of our boxes?', 'https://medium.com/vanmoof/our-secrets-out-f21c1f03fdc8#.ietxmez43', '1', '0', 'pavel_lishin', '9/26/2016 3:19']\n",
      "\n",
      "['12578989', 'algorithmic music', 'http://cacm.acm.org/magazines/2011/7/109891-algorithmic-composition/fulltext', '1', '0', 'poindontcare', '9/26/2016 3:16']\n",
      "\n",
      "['12578979', 'How the Data Vault Enables the Next-Gen Data Warehouse and Data Lake', 'https://www.talend.com/blog/2016/05/12/talend-and-Â\\x93the-data-vaultÂ\\x94', '1', '0', 'markgainor1', '9/26/2016 3:14']\n",
      "\n"
     ]
    }
   ],
   "source": [
    "header = hacker_news_dataset.pop(0) if hacker_news_dataset[0][0] == 'id' else header\n",
    "nl = \"\\n\"\n",
    "print(f\"Columns: {header}\\n\")\n",
    "for row in hacker_news_dataset[:5]:\n",
    "    print(f'{row}\\n')"
   ]
  },
  {
   "cell_type": "markdown",
   "metadata": {},
   "source": [
    "### Filtering the dataset by separating into Ask HN, Show HN and other based on the post title"
   ]
  },
  {
   "cell_type": "code",
   "execution_count": 8,
   "metadata": {},
   "outputs": [
    {
     "name": "stdout",
     "output_type": "stream",
     "text": [
      "Ask posts: 9122\n",
      "Show posts: 10150\n",
      "Other: 273847\n"
     ]
    }
   ],
   "source": [
    "def filter_dataset_post(dataset: list):\n",
    "    ask_posts = []\n",
    "    show_posts = []\n",
    "    other_posts = []\n",
    "    \n",
    "    for row in dataset:\n",
    "        title = row[1]\n",
    "        if title.startswith('Ask HN'):\n",
    "            ask_posts.append(row)\n",
    "        elif title.startswith('Show HN'):\n",
    "            show_posts.append(row)\n",
    "        else:\n",
    "            other_posts.append(row)\n",
    "            \n",
    "    return ask_posts, show_posts, other_posts\n",
    "\n",
    "ask_posts, show_posts, other_posts = filter_dataset_post(dataset=hacker_news_dataset)\n",
    "print(f'Ask posts: {len(ask_posts)}\\nShow posts: {len(show_posts)}\\nOther: {len(other_posts)}')"
   ]
  },
  {
   "cell_type": "markdown",
   "metadata": {},
   "source": [
    "### By averaging how many comments per post Ask HN and Show HN have we can see that Ask HN posts contains, on average, more than the twice the number of Show HN posts"
   ]
  },
  {
   "cell_type": "code",
   "execution_count": 9,
   "metadata": {},
   "outputs": [
    {
     "name": "stdout",
     "output_type": "stream",
     "text": [
      "Ask HN average number of comments: 10.41\n",
      "Show HN average number of comments: 4.89\n"
     ]
    }
   ],
   "source": [
    "def count_row(dataset: list):\n",
    "    comments_sum = 0\n",
    "    for row in dataset:\n",
    "        comments = int(row[4])\n",
    "        comments_sum += comments\n",
    "        \n",
    "    avg_comments = comments_sum/len(dataset)\n",
    "    return comments_sum, round(avg_comments,2)\n",
    "\n",
    "comments_ask_posts, avg_comments_ask_posts = count_comments(ask_posts)\n",
    "commnets_show_posts, avg_comments_show_posts = count_comments(show_posts)\n",
    "\n",
    "print(f'Ask HN average number of comments: {avg_comments_ask_posts}\\n\\\n",
    "Show HN average number of comments: {avg_comments_show_posts}')"
   ]
  },
  {
   "cell_type": "markdown",
   "metadata": {},
   "source": [
    "### At first the quantity of posts made at that time and the amount of comments are obtained, then, fetching the hours that received the most comments and posts, afterwards average the amount of comments by the post comments and displays the Top 10 largest average comments hours "
   ]
  },
  {
   "cell_type": "code",
   "execution_count": 54,
   "metadata": {},
   "outputs": [],
   "source": [
    "def get_average_number_of_comments(post_comments: dict):\n",
    "    avg_comments_per_hour = []\n",
    "    for post_hour in post_comments:\n",
    "        avg_comments = post_comments[post_hour]['comments_by_hour']/post_comments[post_hour]['quantity_of_posts_at_hour']\n",
    "        avg_comments_per_hour.append([post_hour, round(avg_comments, 2)])\n",
    "    return sorted(avg_comments_per_hour, key=lambda x: x[1], reverse=-1)"
   ]
  },
  {
   "cell_type": "code",
   "execution_count": 58,
   "metadata": {},
   "outputs": [],
   "source": [
    "def extract_post_hours(dataset: list, question_type: str = \"Ask HN\"):\n",
    "    posts_per_hour = {}\n",
    "    for row in dataset:\n",
    "        comments = int(row[4])\n",
    "        post_creation_time = dt.datetime.strptime(row[-1], \"%m/%d/%Y %H:%M\")\n",
    "        post_hour = post_creation_time.hour\n",
    "        if post_hour in posts_per_hour:\n",
    "            posts_per_hour[post_hour] = {\n",
    "                'quantity_of_posts_at_hour': posts_per_hour[post_hour]['quantity_of_posts_at_hour']+1,\n",
    "                'comments_by_hour': posts_per_hour[post_hour]['comments_by_hour'] \\\n",
    "                                    + comments\n",
    "            }\n",
    "        else:\n",
    "            posts_per_hour[post_hour] = {\n",
    "                'quantity_of_posts_at_hour': 1,\n",
    "                'comments_by_hour': comments\n",
    "            }\n",
    "    \n",
    "    max_quantity, max_comments = (0, 0), (0, 0)\n",
    "    for k in posts_per_hour: \n",
    "        max_quantity = (k, max(posts_per_hour[k]['quantity_of_posts_at_hour'], max_quantity[1]))\n",
    "        max_comments = (k, max(posts_per_hour[k]['comments_by_hour'], max_comments[1]))\n",
    "    \n",
    "    print(f\"The most common hour of {question_type} posts is: {max_quantity[0]}h, containing {max_quantity[1]} posts 🧤\\nThe hour that people comment the most is: {max_quantity[0]}h, with {max_comments[1]} comments 📦\")\n",
    "    avg_comments_per_hour = get_average_number_of_comments(posts_per_hour)\n",
    "    print(f\"\\nBut by averaging the values we can see that the hour in which a post receives the largest amount of comments given the amount of posts is at: {avg_comments_per_hour[0][0]}h. With an average of {avg_comments_per_hour[0][1]} comments 🦥\")\n",
    "    print(f\"\\nTop 10 largest comments average:\")\n",
    "    for average_comments in avg_comments_per_hour[:10]:\n",
    "        time = dt.datetime.strptime(str(average_comments[0]), \"%H\")\n",
    "        time_to_str = dt.datetime.strftime(time, \"%H:00\")\n",
    "        print(f\"[{time_to_str}]: {average_comments[1]} average comments per post\")"
   ]
  },
  {
   "cell_type": "markdown",
   "metadata": {},
   "source": [
    "### As we can see the hours that people will most likely respond to your questions on Hacker News are after midday, yielding a larger comments average, notice that this time zone is Eastern Time US ⏱"
   ]
  },
  {
   "cell_type": "code",
   "execution_count": 59,
   "metadata": {},
   "outputs": [
    {
     "name": "stdout",
     "output_type": "stream",
     "text": [
      "The most common hour of Ask HN posts is: 5h, containing 646 posts 🧤\n",
      "The hour that people comment the most is: 5h, with 18525 comments 📦\n",
      "\n",
      "But by averaging the values we can see that the hour in which a post receives the largest amount of comments given the amount of posts is at: 15h. With an average of 28.68 comments 🦥\n",
      "\n",
      "Top 10 largest comments average:\n",
      "[15:00]: 28.68 average comments per post\n",
      "[13:00]: 16.35 average comments per post\n",
      "[12:00]: 12.38 average comments per post\n",
      "[02:00]: 11.14 average comments per post\n",
      "[10:00]: 10.68 average comments per post\n",
      "[04:00]: 9.74 average comments per post\n",
      "[14:00]: 9.71 average comments per post\n",
      "[17:00]: 9.45 average comments per post\n",
      "[08:00]: 9.19 average comments per post\n",
      "[11:00]: 9.01 average comments per post\n"
     ]
    }
   ],
   "source": [
    "extract_post_hours(dataset=ask_posts)"
   ]
  },
  {
   "cell_type": "markdown",
   "metadata": {},
   "source": [
    "### For the Show HN posts the pattern is similar, also having 5h as the hour with the most comments and posts, whereas the average is also close to midday (although not in the same pattern as the Ask HN posts)"
   ]
  },
  {
   "cell_type": "code",
   "execution_count": 62,
   "metadata": {},
   "outputs": [
    {
     "name": "stdout",
     "output_type": "stream",
     "text": [
      "The most common hour of Show HN posts is: 5h, containing 834 posts 🧤\n",
      "The hour that people comment the most is: 5h, with 3839 comments 📦\n",
      "\n",
      "But by averaging the values we can see that the hour in which a post receives the largest amount of comments given the amount of posts is at: 12h. With an average of 6.99 comments 🦥\n",
      "\n",
      "Top 10 largest comments average:\n",
      "[12:00]: 6.99 average comments per post\n",
      "[07:00]: 6.69 average comments per post\n",
      "[11:00]: 6.0 average comments per post\n",
      "[08:00]: 5.62 average comments per post\n",
      "[14:00]: 5.52 average comments per post\n",
      "[13:00]: 5.43 average comments per post\n",
      "[02:00]: 5.15 average comments per post\n",
      "[04:00]: 5.04 average comments per post\n",
      "[19:00]: 5.02 average comments per post\n",
      "[18:00]: 4.94 average comments per post\n"
     ]
    }
   ],
   "source": [
    "extract_post_hours(dataset=show_posts, question_type='Show HN')"
   ]
  }
 ],
 "metadata": {
  "kernelspec": {
   "display_name": "Python 3",
   "language": "python",
   "name": "python3"
  },
  "language_info": {
   "codemirror_mode": {
    "name": "ipython",
    "version": 3
   },
   "file_extension": ".py",
   "mimetype": "text/x-python",
   "name": "python",
   "nbconvert_exporter": "python",
   "pygments_lexer": "ipython3",
   "version": "3.8.5"
  }
 },
 "nbformat": 4,
 "nbformat_minor": 4
}
